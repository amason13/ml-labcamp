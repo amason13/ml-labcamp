{
 "cells": [
  {
   "cell_type": "markdown",
   "metadata": {},
   "source": [
    "# Notebook 3.\n",
    "\n",
    "In this notebook we will use the power of transfer learning to achieve some pretty cool results. \n",
    "\n",
    "Step 1. Extract images from videos we took at the start."
   ]
  },
  {
   "cell_type": "code",
   "execution_count": 1,
   "metadata": {},
   "outputs": [],
   "source": [
    "%matplotlib inline\n",
    "import matplotlib\n",
    "import seaborn as sns\n",
    "sns.set()\n",
    "matplotlib.rcParams['figure.dpi'] = 144"
   ]
  },
  {
   "cell_type": "code",
   "execution_count": 2,
   "metadata": {},
   "outputs": [
    {
     "name": "stderr",
     "output_type": "stream",
     "text": [
      "Using TensorFlow backend.\n"
     ]
    }
   ],
   "source": [
    "import cv2\n",
    "import sys\n",
    "import os\n",
    "import imutils\n",
    "import numpy as np\n",
    "import random\n",
    "import keras"
   ]
  },
  {
   "cell_type": "code",
   "execution_count": 3,
   "metadata": {},
   "outputs": [],
   "source": [
    "labels_dict = {'IMG_2221.MOV':0,\n",
    "               'IMG_2222.MOV':1\n",
    "               }"
   ]
  },
  {
   "cell_type": "code",
   "execution_count": 4,
   "metadata": {},
   "outputs": [],
   "source": [
    "face_cascade = cv2.CascadeClassifier(\"haarcascade_frontalface_alt.xml\")\n",
    "\n",
    "for key in labels_dict.keys():\n",
    "    \n",
    "    vidcap = cv2.VideoCapture('videos/{}'.format(key))\n",
    "    success, image = vidcap.read()\n",
    "    count = 0\n",
    "    success = True\n",
    "        \n",
    "    while success:\n",
    "        image = imutils.rotate(image, 270)\n",
    "        faces = face_cascade.detectMultiScale(image, 1.1, 3, minSize=(100, 100))\n",
    "        \n",
    "        \n",
    "        i=0\n",
    "        for (x, y, w, h) in faces:\n",
    "            \n",
    "            r = max(w, h) / 2\n",
    "            centerx = x + w / 2\n",
    "            centery = y + h / 2\n",
    "            nx = int(centerx - r)\n",
    "            ny = int(centery - r)\n",
    "            nr = int(r * 2)\n",
    "\n",
    "            faceimg = image[ny:ny+nr, nx:nx+nr]\n",
    "            lastimg = cv2.resize(faceimg, (192, 192))\n",
    "\n",
    "            i += 1\n",
    "            cv2.imwrite(\"images/train/{0}-{1}.jpg\".format(str(labels_dict[key]),count), lastimg)\n",
    "    \n",
    "        success, image = vidcap.read()      \n",
    "        count += 1\n",
    "    "
   ]
  },
  {
   "cell_type": "markdown",
   "metadata": {},
   "source": [
    "Load data"
   ]
  },
  {
   "cell_type": "code",
   "execution_count": 5,
   "metadata": {},
   "outputs": [],
   "source": [
    "DIR = 'images/train/'\n",
    "\n",
    "def load_training_data():\n",
    "    train_data = []\n",
    "    for img in os.listdir(DIR):\n",
    "        label = img[0]\n",
    "        if label != '.':\n",
    "            path = os.path.join(DIR, img)\n",
    "            img = cv2.imread(path)\n",
    "            train_data.append([np.array(img), label])\n",
    "\n",
    "    return np.array(train_data)"
   ]
  },
  {
   "cell_type": "code",
   "execution_count": 6,
   "metadata": {},
   "outputs": [],
   "source": [
    "data = load_training_data()"
   ]
  },
  {
   "cell_type": "code",
   "execution_count": 7,
   "metadata": {},
   "outputs": [],
   "source": [
    "random.shuffle(data)"
   ]
  },
  {
   "cell_type": "code",
   "execution_count": 8,
   "metadata": {},
   "outputs": [],
   "source": [
    "labels = [int(el[1]) for el in data]"
   ]
  },
  {
   "cell_type": "code",
   "execution_count": 9,
   "metadata": {},
   "outputs": [],
   "source": [
    "images = np.array([el[0] for el in data])"
   ]
  },
  {
   "cell_type": "code",
   "execution_count": 10,
   "metadata": {},
   "outputs": [],
   "source": [
    "one_hot_labels = keras.utils.to_categorical(labels, num_classes=len(list(set(labels))))"
   ]
  },
  {
   "cell_type": "code",
   "execution_count": 11,
   "metadata": {},
   "outputs": [
    {
     "data": {
      "text/plain": [
       "array([[0., 1.],\n",
       "       [0., 1.]], dtype=float32)"
      ]
     },
     "execution_count": 11,
     "metadata": {},
     "output_type": "execute_result"
    }
   ],
   "source": [
    "one_hot_labels[:2]"
   ]
  },
  {
   "cell_type": "code",
   "execution_count": 12,
   "metadata": {},
   "outputs": [],
   "source": [
    "# class_labels = np.array(list(labels_dict.values()))\n",
    "# class_labels"
   ]
  },
  {
   "cell_type": "code",
   "execution_count": 13,
   "metadata": {},
   "outputs": [],
   "source": [
    "from keras import Sequential\n",
    "from keras.layers import Flatten, Dense, Dropout, Dense\n",
    "\n",
    "pretrained_model = keras.applications.MobileNetV2(input_shape=[*[192,192], 3], include_top=False)\n",
    "pretrained_model.trainable = False\n",
    "\n",
    "transfer = keras.Sequential([\n",
    "                            pretrained_model,\n",
    "                            keras.layers.Flatten(),\n",
    "                            keras.layers.Dense(2, activation='softmax')\n",
    "                            ])"
   ]
  },
  {
   "cell_type": "code",
   "execution_count": 14,
   "metadata": {},
   "outputs": [],
   "source": [
    "transfer.compile(optimizer='adam',\n",
    "              loss='categorical_crossentropy',\n",
    "              metrics=['accuracy'])"
   ]
  },
  {
   "cell_type": "code",
   "execution_count": 15,
   "metadata": {},
   "outputs": [
    {
     "name": "stdout",
     "output_type": "stream",
     "text": [
      "Epoch 1/10\n",
      "148/148 [==============================] - 6s 41ms/step - loss: 0.1941 - accuracy: 0.9189\n",
      "Epoch 2/10\n",
      "148/148 [==============================] - 5s 31ms/step - loss: 1.6109e-09 - accuracy: 1.0000\n",
      "Epoch 3/10\n",
      "148/148 [==============================] - 4s 30ms/step - loss: 4.0273e-09 - accuracy: 1.0000\n",
      "Epoch 4/10\n",
      "148/148 [==============================] - 4s 30ms/step - loss: 0.0000e+00 - accuracy: 1.0000\n",
      "Epoch 5/10\n",
      "148/148 [==============================] - 4s 30ms/step - loss: 0.0000e+00 - accuracy: 1.0000\n",
      "Epoch 6/10\n",
      "148/148 [==============================] - 4s 30ms/step - loss: 0.0000e+00 - accuracy: 1.0000\n",
      "Epoch 7/10\n",
      "148/148 [==============================] - 4s 30ms/step - loss: 0.0000e+00 - accuracy: 1.0000\n",
      "Epoch 8/10\n",
      "148/148 [==============================] - 4s 30ms/step - loss: 0.0000e+00 - accuracy: 1.0000\n",
      "Epoch 9/10\n",
      "148/148 [==============================] - 4s 30ms/step - loss: 0.0000e+00 - accuracy: 1.0000\n",
      "Epoch 10/10\n",
      "148/148 [==============================] - 4s 30ms/step - loss: 0.0000e+00 - accuracy: 1.0000\n"
     ]
    },
    {
     "data": {
      "text/plain": [
       "<keras.callbacks.callbacks.History at 0x1a4b8ede80>"
      ]
     },
     "execution_count": 15,
     "metadata": {},
     "output_type": "execute_result"
    }
   ],
   "source": [
    "transfer.fit(images, one_hot_labels, epochs=10, batch_size=16)"
   ]
  },
  {
   "cell_type": "code",
   "execution_count": 17,
   "metadata": {},
   "outputs": [],
   "source": [
    "import matplotlib.pyplot as plt\n",
    "\n",
    "face_cascade = cv2.CascadeClassifier(\"haarcascade_frontalface_alt.xml\")\n",
    "\n",
    "image = cv2.imread('/images.test.jpg')\n",
    "\n",
    "# image = imutils.rotate(image, 270)\n",
    "faces = face_cascade.detectMultiScale(image, 1.1, 3, minSize=(100, 100))\n",
    "\n",
    "i=0\n",
    "for (x, y, w, h) in faces[:1]:\n",
    " \n",
    "    r = max(w, h) / 2\n",
    "    centerx = x + w / 2\n",
    "    centery = y + h / 2\n",
    "    nx = int(centerx - r)\n",
    "    ny = int(centery - r)\n",
    "    nr = int(r * 2)\n",
    "\n",
    "    faceimg = image[ny:ny+nr, nx:nx+nr]\n",
    "    lastimg = cv2.resize(faceimg, (192, 192))\n",
    "    \n",
    "    lastimg_reshaped = np.expand_dims(lastimg, axis=0) \n",
    "    plt.title(transfer.predict_classes(lastimg_reshaped)[0])\n",
    "    cv2.imshow(str(), lastimg)\n",
    "    cv2.waitKey(0)\n",
    "    \n",
    "    \n",
    "\n"
   ]
  },
  {
   "cell_type": "code",
   "execution_count": null,
   "metadata": {},
   "outputs": [],
   "source": []
  },
  {
   "cell_type": "code",
   "execution_count": null,
   "metadata": {},
   "outputs": [],
   "source": []
  }
 ],
 "metadata": {
  "kernelspec": {
   "display_name": "Python 3",
   "language": "python",
   "name": "python3"
  },
  "language_info": {
   "codemirror_mode": {
    "name": "ipython",
    "version": 3
   },
   "file_extension": ".py",
   "mimetype": "text/x-python",
   "name": "python",
   "nbconvert_exporter": "python",
   "pygments_lexer": "ipython3",
   "version": "3.7.3"
  }
 },
 "nbformat": 4,
 "nbformat_minor": 2
}
